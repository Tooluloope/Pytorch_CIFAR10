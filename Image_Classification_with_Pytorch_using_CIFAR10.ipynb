{
  "nbformat": 4,
  "nbformat_minor": 0,
  "metadata": {
    "colab": {
      "name": "Image Classification with Pytorch using CIFAR10.ipynb",
      "version": "0.3.2",
      "provenance": []
    },
    "kernelspec": {
      "name": "python3",
      "display_name": "Python 3"
    },
    "accelerator": "GPU"
  },
  "cells": [
    {
      "metadata": {
        "id": "bo5rQs_C_394",
        "colab_type": "code",
        "colab": {}
      },
      "cell_type": "code",
      "source": [
        "from __future__  import print_function\n",
        "import torch\n",
        "import numpy as np\n",
        "import torch.nn as nn\n",
        "import torch.nn.functional as F\n",
        "import torchvision\n",
        "import torchvision.transforms as transforms\n",
        "import matplotlib.pyplot as plt\n",
        "import numpy as np\n",
        "\n",
        "import torch.optim as optim"
      ],
      "execution_count": 0,
      "outputs": []
    },
    {
      "metadata": {
        "id": "3vpW5P3y-S7u",
        "colab_type": "code",
        "colab": {
          "base_uri": "https://localhost:8080/",
          "height": 51
        },
        "outputId": "c08ebe6a-94a0-462a-982b-90d9c1aab8e9"
      },
      "cell_type": "code",
      "source": [
        "#Downloading, Loading and Transforming our CIFAR10 datasets\n",
        "transform = transforms.Compose([transforms.ToTensor(), transforms.Normalize((0.5,0.5,0.5),(0.5,0.5,0.5))])\n",
        "trainset = torchvision.datasets.CIFAR10(root='./data', train=True, download=True, transform=transform)\n",
        "testset = torchvision.datasets.CIFAR10(root='./data', train=False, download=True, transform=transform)\n",
        "trainloader = torch.utils.data.DataLoader(trainset, batch_size = 4, shuffle = True, num_workers=2)\n",
        "testloader = torch.utils.data.DataLoader(testset, batch_size = 4, shuffle = False, num_workers=2)\n",
        "classes = ('plane', 'car', 'bird', 'cat','deer', 'dog', 'frog', 'horse', 'ship', 'truck')"
      ],
      "execution_count": 36,
      "outputs": [
        {
          "output_type": "stream",
          "text": [
            "Files already downloaded and verified\n",
            "Files already downloaded and verified\n"
          ],
          "name": "stdout"
        }
      ]
    },
    {
      "metadata": {
        "id": "Awd3fTOoq0IV",
        "colab_type": "code",
        "colab": {
          "base_uri": "https://localhost:8080/",
          "height": 201
        },
        "outputId": "1746e562-3043-4a09-ebad-310401e3cf65"
      },
      "cell_type": "code",
      "source": [
        "def imshow(img):\n",
        "  img = img/2 +0.5\n",
        "  npimg = img.numpy()\n",
        "  plt.imshow(np.transpose(npimg, (1,2,0)))\n",
        "  plt.show()\n",
        "  \n",
        "dataiter = iter(trainloader)\n",
        "images, labels = dataiter.next()\n",
        "\n",
        "imshow(torchvision.utils.make_grid(images))\n",
        "print(' '.join(classes[i] for i in labels))\n",
        "print(images.size())\n"
      ],
      "execution_count": 37,
      "outputs": [
        {
          "output_type": "display_data",
          "data": {
            "image/png": "[encoded data removed]",
            "text/plain": [
              "<Figure size 576x396 with 1 Axes>"
            ]
          },
          "metadata": {
            "tags": []
          }
        },
        {
          "output_type": "stream",
          "text": [
            "cat dog plane horse\n",
            "torch.Size([4, 3, 32, 32])\n"
          ],
          "name": "stdout"
        }
      ]
    },
    {
      "metadata": {
        "id": "BgrFR-fft5IG",
        "colab_type": "code",
        "colab": {}
      },
      "cell_type": "code",
      "source": [
        "#Feed-Forward\n",
        "\n",
        "class Net(nn.Module):\n",
        "  def __init__(self):\n",
        "    super(Net, self).__init__()\n",
        "    self.conv1 = nn.Conv2d(3, 6, 5)\n",
        "    self.pool = nn.MaxPool2d(2,2)\n",
        "    self.conv2 = nn.Conv2d(6,16,5)\n",
        "    self.fc1 = nn.Linear(16*5*5, 120)\n",
        "    self.fc2 = nn.Linear(120,84)\n",
        "    self.fc3 = nn.Linear(84,10)\n",
        "    \n",
        "  def forward(self, x):\n",
        "    x = self.pool(F.relu(self.conv1(x)))\n",
        "    x = self.pool(F.relu(self.conv2(x)))\n",
        "    x = x.view(-1, 16*5*5)\n",
        "    x = F.relu(self.fc1(x))\n",
        "    x = F.relu(self.fc2(x))\n",
        "    x = self.fc3(x)\n",
        "    return x\n",
        "\n",
        "net = Net()\n",
        "\n",
        "    "
      ],
      "execution_count": 0,
      "outputs": []
    },
    {
      "metadata": {
        "id": "DtGR9HBoDKue",
        "colab_type": "code",
        "colab": {
          "base_uri": "https://localhost:8080/",
          "height": 34
        },
        "outputId": "ac1ac1a6-c226-4523-a7d9-d5060aa6f0f2"
      },
      "cell_type": "code",
      "source": [
        "device = torch.device(\"cuda:0\" if torch.cuda.is_available() else \"cpu\")\n",
        "\n",
        "# Assuming that we are on a CUDA machine, this should print a CUDA device:\n",
        "\n",
        "print(device)"
      ],
      "execution_count": 60,
      "outputs": [
        {
          "output_type": "stream",
          "text": [
            "cuda:0\n"
          ],
          "name": "stdout"
        }
      ]
    },
    {
      "metadata": {
        "id": "w9Q9k4VG5JL_",
        "colab_type": "code",
        "colab": {
          "base_uri": "https://localhost:8080/",
          "height": 153
        },
        "outputId": "57ddec17-8c03-40fb-e1be-d1ffaddb64f9"
      },
      "cell_type": "code",
      "source": [
        "net.to(device)"
      ],
      "execution_count": 61,
      "outputs": [
        {
          "output_type": "execute_result",
          "data": {
            "text/plain": [
              "Net(\n",
              "  (conv1): Conv2d(3, 6, kernel_size=(5, 5), stride=(1, 1))\n",
              "  (pool): MaxPool2d(kernel_size=2, stride=2, padding=0, dilation=1, ceil_mode=False)\n",
              "  (conv2): Conv2d(6, 16, kernel_size=(5, 5), stride=(1, 1))\n",
              "  (fc1): Linear(in_features=400, out_features=120, bias=True)\n",
              "  (fc2): Linear(in_features=120, out_features=84, bias=True)\n",
              "  (fc3): Linear(in_features=84, out_features=10, bias=True)\n",
              ")"
            ]
          },
          "metadata": {
            "tags": []
          },
          "execution_count": 61
        }
      ]
    },
    {
      "metadata": {
        "id": "CUMVeIxm5OTP",
        "colab_type": "code",
        "colab": {}
      },
      "cell_type": "code",
      "source": [
        "#Loss and Optimizers\n",
        "criterion = nn.CrossEntropyLoss()\n",
        "optimizer = optim.SGD(net.parameters(), lr = 0.001, momentum = 0.9)"
      ],
      "execution_count": 0,
      "outputs": []
    },
    {
      "metadata": {
        "id": "3o_L5jQm5yYE",
        "colab_type": "code",
        "colab": {
          "base_uri": "https://localhost:8080/",
          "height": 3632
        },
        "outputId": "714f4beb-aab2-4898-d788-9df212f59515"
      },
      "cell_type": "code",
      "source": [
        "#Going through the whole Data Epoch Number of times\n",
        "for epoch in range(100):\n",
        "  running_loss = 0.0\n",
        "  for i, data in enumerate(trainloader, 0):\n",
        "    inputs, labels = data\n",
        "    inputs, labels = inputs.to(device), labels.to(device)\n",
        "    \n",
        "    optimizer.zero_grad()\n",
        "    \n",
        "    outputs = net(inputs)\n",
        "    loss = criterion(outputs, labels)\n",
        "    loss.backward()\n",
        "    optimizer.step()\n",
        "    \n",
        "    running_loss += loss.item()\n",
        "    if i%2000 == 1999:\n",
        "      print('[%d, %5d] loss: %.3f' %(epoch + 1, i + 1, running_loss / 2000))\n",
        "      running_loss = 0.0\n",
        "    \n",
        "    "
      ],
      "execution_count": 63,
      "outputs": [
        {
          "output_type": "stream",
          "text": [
            "[1,  2000] loss: 0.992\n",
            "[1,  4000] loss: 1.012\n",
            "[1,  6000] loss: 0.981\n",
            "[1,  8000] loss: 1.022\n",
            "[1, 10000] loss: 1.028\n",
            "[1, 12000] loss: 1.030\n",
            "[2,  2000] loss: 0.924\n",
            "[2,  4000] loss: 0.940\n",
            "[2,  6000] loss: 0.944\n",
            "[2,  8000] loss: 0.975\n",
            "[2, 10000] loss: 0.962\n",
            "[2, 12000] loss: 0.996\n",
            "[3,  2000] loss: 0.886\n",
            "[3,  4000] loss: 0.914\n",
            "[3,  6000] loss: 0.912\n",
            "[3,  8000] loss: 0.926\n",
            "[3, 10000] loss: 0.940\n",
            "[3, 12000] loss: 0.940\n",
            "[4,  2000] loss: 0.832\n",
            "[4,  4000] loss: 0.847\n",
            "[4,  6000] loss: 0.863\n",
            "[4,  8000] loss: 0.884\n",
            "[4, 10000] loss: 0.920\n",
            "[4, 12000] loss: 0.919\n",
            "[5,  2000] loss: 0.784\n",
            "[5,  4000] loss: 0.828\n",
            "[5,  6000] loss: 0.854\n",
            "[5,  8000] loss: 0.852\n",
            "[5, 10000] loss: 0.877\n",
            "[5, 12000] loss: 0.886\n",
            "[6,  2000] loss: 0.771\n",
            "[6,  4000] loss: 0.793\n",
            "[6,  6000] loss: 0.812\n",
            "[6,  8000] loss: 0.836\n",
            "[6, 10000] loss: 0.837\n",
            "[6, 12000] loss: 0.854\n",
            "[7,  2000] loss: 0.745\n",
            "[7,  4000] loss: 0.773\n",
            "[7,  6000] loss: 0.784\n",
            "[7,  8000] loss: 0.803\n",
            "[7, 10000] loss: 0.845\n",
            "[7, 12000] loss: 0.831\n",
            "[8,  2000] loss: 0.705\n",
            "[8,  4000] loss: 0.742\n",
            "[8,  6000] loss: 0.762\n",
            "[8,  8000] loss: 0.795\n",
            "[8, 10000] loss: 0.807\n",
            "[8, 12000] loss: 0.819\n",
            "[9,  2000] loss: 0.692\n",
            "[9,  4000] loss: 0.715\n",
            "[9,  6000] loss: 0.748\n",
            "[9,  8000] loss: 0.758\n",
            "[9, 10000] loss: 0.791\n",
            "[9, 12000] loss: 0.807\n",
            "[10,  2000] loss: 0.673\n",
            "[10,  4000] loss: 0.705\n",
            "[10,  6000] loss: 0.737\n",
            "[10,  8000] loss: 0.746\n",
            "[10, 10000] loss: 0.769\n",
            "[10, 12000] loss: 0.759\n",
            "[11,  2000] loss: 0.659\n",
            "[11,  4000] loss: 0.678\n",
            "[11,  6000] loss: 0.740\n",
            "[11,  8000] loss: 0.734\n",
            "[11, 10000] loss: 0.746\n",
            "[11, 12000] loss: 0.757\n",
            "[12,  2000] loss: 0.634\n",
            "[12,  4000] loss: 0.680\n",
            "[12,  6000] loss: 0.698\n",
            "[12,  8000] loss: 0.703\n",
            "[12, 10000] loss: 0.741\n",
            "[12, 12000] loss: 0.766\n",
            "[13,  2000] loss: 0.629\n",
            "[13,  4000] loss: 0.665\n",
            "[13,  6000] loss: 0.662\n",
            "[13,  8000] loss: 0.707\n",
            "[13, 10000] loss: 0.721\n",
            "[13, 12000] loss: 0.736\n",
            "[14,  2000] loss: 0.632\n",
            "[14,  4000] loss: 0.638\n",
            "[14,  6000] loss: 0.678\n",
            "[14,  8000] loss: 0.707\n",
            "[14, 10000] loss: 0.715\n",
            "[14, 12000] loss: 0.715\n",
            "[15,  2000] loss: 0.594\n",
            "[15,  4000] loss: 0.615\n",
            "[15,  6000] loss: 0.676\n",
            "[15,  8000] loss: 0.684\n",
            "[15, 10000] loss: 0.711\n",
            "[15, 12000] loss: 0.718\n",
            "[16,  2000] loss: 0.596\n",
            "[16,  4000] loss: 0.625\n",
            "[16,  6000] loss: 0.653\n",
            "[16,  8000] loss: 0.661\n",
            "[16, 10000] loss: 0.689\n",
            "[16, 12000] loss: 0.718\n",
            "[17,  2000] loss: 0.578\n",
            "[17,  4000] loss: 0.628\n",
            "[17,  6000] loss: 0.664\n",
            "[17,  8000] loss: 0.656\n",
            "[17, 10000] loss: 0.676\n",
            "[17, 12000] loss: 0.712\n",
            "[18,  2000] loss: 0.588\n",
            "[18,  4000] loss: 0.619\n",
            "[18,  6000] loss: 0.647\n",
            "[18,  8000] loss: 0.645\n",
            "[18, 10000] loss: 0.694\n",
            "[18, 12000] loss: 0.678\n",
            "[19,  2000] loss: 0.569\n",
            "[19,  4000] loss: 0.626\n",
            "[19,  6000] loss: 0.638\n",
            "[19,  8000] loss: 0.631\n",
            "[19, 10000] loss: 0.683\n",
            "[19, 12000] loss: 0.679\n",
            "[20,  2000] loss: 0.573\n",
            "[20,  4000] loss: 0.576\n",
            "[20,  6000] loss: 0.640\n",
            "[20,  8000] loss: 0.649\n",
            "[20, 10000] loss: 0.622\n",
            "[20, 12000] loss: 0.691\n",
            "[21,  2000] loss: 0.532\n",
            "[21,  4000] loss: 0.616\n",
            "[21,  6000] loss: 0.632\n",
            "[21,  8000] loss: 0.643\n",
            "[21, 10000] loss: 0.661\n",
            "[21, 12000] loss: 0.697\n",
            "[22,  2000] loss: 0.568\n",
            "[22,  4000] loss: 0.593\n",
            "[22,  6000] loss: 0.616\n",
            "[22,  8000] loss: 0.640\n",
            "[22, 10000] loss: 0.663\n",
            "[22, 12000] loss: 0.652\n",
            "[23,  2000] loss: 0.556\n",
            "[23,  4000] loss: 0.595\n",
            "[23,  6000] loss: 0.608\n",
            "[23,  8000] loss: 0.643\n",
            "[23, 10000] loss: 0.663\n",
            "[23, 12000] loss: 0.664\n",
            "[24,  2000] loss: 0.538\n",
            "[24,  4000] loss: 0.616\n",
            "[24,  6000] loss: 0.613\n",
            "[24,  8000] loss: 0.646\n",
            "[24, 10000] loss: 0.630\n",
            "[24, 12000] loss: 0.663\n",
            "[25,  2000] loss: 0.545\n",
            "[25,  4000] loss: 0.569\n",
            "[25,  6000] loss: 0.620\n",
            "[25,  8000] loss: 0.644\n",
            "[25, 10000] loss: 0.653\n",
            "[25, 12000] loss: 0.643\n",
            "[26,  2000] loss: 0.533\n",
            "[26,  4000] loss: 0.573\n",
            "[26,  6000] loss: 0.600\n",
            "[26,  8000] loss: 0.625\n",
            "[26, 10000] loss: 0.651\n",
            "[26, 12000] loss: 0.660\n",
            "[27,  2000] loss: 0.510\n",
            "[27,  4000] loss: 0.581\n",
            "[27,  6000] loss: 0.603\n",
            "[27,  8000] loss: 0.629\n",
            "[27, 10000] loss: 0.646\n",
            "[27, 12000] loss: 0.686\n",
            "[28,  2000] loss: 0.527\n",
            "[28,  4000] loss: 0.589\n",
            "[28,  6000] loss: 0.609\n",
            "[28,  8000] loss: 0.625\n",
            "[28, 10000] loss: 0.659\n",
            "[28, 12000] loss: 0.664\n",
            "[29,  2000] loss: 0.547\n",
            "[29,  4000] loss: 0.558\n",
            "[29,  6000] loss: 0.578\n",
            "[29,  8000] loss: 0.634\n",
            "[29, 10000] loss: 0.608\n",
            "[29, 12000] loss: 0.690\n",
            "[30,  2000] loss: 0.523\n",
            "[30,  4000] loss: 0.592\n",
            "[30,  6000] loss: 0.626\n",
            "[30,  8000] loss: 0.623\n",
            "[30, 10000] loss: 0.654\n",
            "[30, 12000] loss: 0.622\n",
            "[31,  2000] loss: 0.538\n",
            "[31,  4000] loss: 0.575\n",
            "[31,  6000] loss: 0.612\n",
            "[31,  8000] loss: 0.618\n",
            "[31, 10000] loss: 0.647\n",
            "[31, 12000] loss: 0.658\n",
            "[32,  2000] loss: 0.543\n",
            "[32,  4000] loss: 0.591\n",
            "[32,  6000] loss: 0.588\n",
            "[32,  8000] loss: 0.621\n",
            "[32, 10000] loss: 0.616\n",
            "[32, 12000] loss: 0.650\n",
            "[33,  2000] loss: 0.515\n"
          ],
          "name": "stdout"
        },
        {
          "output_type": "error",
          "ename": "KeyboardInterrupt",
          "evalue": "ignored",
          "traceback": [
            "\u001b[0;31m---------------------------------------------------------------------------\u001b[0m",
            "\u001b[0;31mKeyboardInterrupt\u001b[0m                         Traceback (most recent call last)",
            "\u001b[0;32m<ipython-input-63-d1e3e814ffde>\u001b[0m in \u001b[0;36m<module>\u001b[0;34m()\u001b[0m\n\u001b[1;32m     10\u001b[0m     \u001b[0mloss\u001b[0m \u001b[0;34m=\u001b[0m \u001b[0mcriterion\u001b[0m\u001b[0;34m(\u001b[0m\u001b[0moutputs\u001b[0m\u001b[0;34m,\u001b[0m \u001b[0mlabels\u001b[0m\u001b[0;34m)\u001b[0m\u001b[0;34m\u001b[0m\u001b[0;34m\u001b[0m\u001b[0m\n\u001b[1;32m     11\u001b[0m     \u001b[0mloss\u001b[0m\u001b[0;34m.\u001b[0m\u001b[0mbackward\u001b[0m\u001b[0;34m(\u001b[0m\u001b[0;34m)\u001b[0m\u001b[0;34m\u001b[0m\u001b[0;34m\u001b[0m\u001b[0m\n\u001b[0;32m---> 12\u001b[0;31m     \u001b[0moptimizer\u001b[0m\u001b[0;34m.\u001b[0m\u001b[0mstep\u001b[0m\u001b[0;34m(\u001b[0m\u001b[0;34m)\u001b[0m\u001b[0;34m\u001b[0m\u001b[0;34m\u001b[0m\u001b[0m\n\u001b[0m\u001b[1;32m     13\u001b[0m \u001b[0;34m\u001b[0m\u001b[0m\n\u001b[1;32m     14\u001b[0m     \u001b[0mrunning_loss\u001b[0m \u001b[0;34m+=\u001b[0m \u001b[0mloss\u001b[0m\u001b[0;34m.\u001b[0m\u001b[0mitem\u001b[0m\u001b[0;34m(\u001b[0m\u001b[0;34m)\u001b[0m\u001b[0;34m\u001b[0m\u001b[0;34m\u001b[0m\u001b[0m\n",
            "\u001b[0;32m/usr/local/lib/python3.6/dist-packages/torch/optim/sgd.py\u001b[0m in \u001b[0;36mstep\u001b[0;34m(self, closure)\u001b[0m\n\u001b[1;32m     99\u001b[0m                     \u001b[0;32melse\u001b[0m\u001b[0;34m:\u001b[0m\u001b[0;34m\u001b[0m\u001b[0;34m\u001b[0m\u001b[0m\n\u001b[1;32m    100\u001b[0m                         \u001b[0mbuf\u001b[0m \u001b[0;34m=\u001b[0m \u001b[0mparam_state\u001b[0m\u001b[0;34m[\u001b[0m\u001b[0;34m'momentum_buffer'\u001b[0m\u001b[0;34m]\u001b[0m\u001b[0;34m\u001b[0m\u001b[0;34m\u001b[0m\u001b[0m\n\u001b[0;32m--> 101\u001b[0;31m                         \u001b[0mbuf\u001b[0m\u001b[0;34m.\u001b[0m\u001b[0mmul_\u001b[0m\u001b[0;34m(\u001b[0m\u001b[0mmomentum\u001b[0m\u001b[0;34m)\u001b[0m\u001b[0;34m.\u001b[0m\u001b[0madd_\u001b[0m\u001b[0;34m(\u001b[0m\u001b[0;36m1\u001b[0m \u001b[0;34m-\u001b[0m \u001b[0mdampening\u001b[0m\u001b[0;34m,\u001b[0m \u001b[0md_p\u001b[0m\u001b[0;34m)\u001b[0m\u001b[0;34m\u001b[0m\u001b[0;34m\u001b[0m\u001b[0m\n\u001b[0m\u001b[1;32m    102\u001b[0m                     \u001b[0;32mif\u001b[0m \u001b[0mnesterov\u001b[0m\u001b[0;34m:\u001b[0m\u001b[0;34m\u001b[0m\u001b[0;34m\u001b[0m\u001b[0m\n\u001b[1;32m    103\u001b[0m                         \u001b[0md_p\u001b[0m \u001b[0;34m=\u001b[0m \u001b[0md_p\u001b[0m\u001b[0;34m.\u001b[0m\u001b[0madd\u001b[0m\u001b[0;34m(\u001b[0m\u001b[0mmomentum\u001b[0m\u001b[0;34m,\u001b[0m \u001b[0mbuf\u001b[0m\u001b[0;34m)\u001b[0m\u001b[0;34m\u001b[0m\u001b[0;34m\u001b[0m\u001b[0m\n",
            "\u001b[0;31mKeyboardInterrupt\u001b[0m: "
          ]
        }
      ]
    },
    {
      "metadata": {
        "id": "ERrPAJmX7GD0",
        "colab_type": "code",
        "colab": {
          "base_uri": "https://localhost:8080/",
          "height": 184
        },
        "outputId": "e8f1c5b7-f57d-46db-8d63-cf812adbc05e"
      },
      "cell_type": "code",
      "source": [
        "#Predict Using the Test Images\n",
        "\n",
        "dataiter = iter(testloader)\n",
        "images, labels = dataiter.next()\n",
        "\n",
        "# print images\n",
        "imshow(torchvision.utils.make_grid(images))\n",
        "print('GroundTruth: ', ' '.join('%5s' % classes[labels[j]] for j in range(4)))"
      ],
      "execution_count": 65,
      "outputs": [
        {
          "output_type": "display_data",
          "data": {
            "image/png": "[encoded data removed]",
            "text/plain": [
              "<Figure size 576x396 with 1 Axes>"
            ]
          },
          "metadata": {
            "tags": []
          }
        },
        {
          "output_type": "stream",
          "text": [
            "GroundTruth:    cat  ship  ship plane\n"
          ],
          "name": "stdout"
        }
      ]
    },
    {
      "metadata": {
        "id": "aqTuooZRMryq",
        "colab_type": "code",
        "colab": {}
      },
      "cell_type": "code",
      "source": [
        "outputs = net(images.to(device))\n"
      ],
      "execution_count": 0,
      "outputs": []
    },
    {
      "metadata": {
        "id": "Yj33vHLLM1VI",
        "colab_type": "code",
        "colab": {
          "base_uri": "https://localhost:8080/",
          "height": 34
        },
        "outputId": "c08969c8-a2cc-4137-8589-ce08cd643ba0"
      },
      "cell_type": "code",
      "source": [
        "_, predicted = torch.max(outputs, 1)\n",
        "\n",
        "print('Predicted: ', ' '.join('%5s' % classes[predicted[j]]\n",
        "                              for j in range(4)))"
      ],
      "execution_count": 68,
      "outputs": [
        {
          "output_type": "stream",
          "text": [
            "Predicted:    cat   car   car plane\n"
          ],
          "name": "stdout"
        }
      ]
    },
    {
      "metadata": {
        "id": "WSMLU0RhNHIW",
        "colab_type": "code",
        "colab": {
          "base_uri": "https://localhost:8080/",
          "height": 34
        },
        "outputId": "4640850b-50da-4cf9-8fe3-44ee34c05e15"
      },
      "cell_type": "code",
      "source": [
        "correct = 0\n",
        "total = 0\n",
        "with torch.no_grad():\n",
        "    for data in testloader:\n",
        "        images, labels = data\n",
        "        images, labels = images.to(device), labels.to(device)\n",
        "        outputs = net(images)\n",
        "        _, predicted = torch.max(outputs.data, 1)\n",
        "        total += labels.size(0)\n",
        "        correct += (predicted == labels).sum().item()\n",
        "\n",
        "print('Accuracy of the network on the 10000 test images: %d %%' % (\n",
        "    100 * correct / total))"
      ],
      "execution_count": 72,
      "outputs": [
        {
          "output_type": "stream",
          "text": [
            "Accuracy of the network on the 10000 test images: 58 %\n"
          ],
          "name": "stdout"
        }
      ]
    },
    {
      "metadata": {
        "id": "rBjKzJJFNNlv",
        "colab_type": "code",
        "colab": {
          "base_uri": "https://localhost:8080/",
          "height": 187
        },
        "outputId": "14e14746-fc2e-4a90-e4b6-0be317dcf487"
      },
      "cell_type": "code",
      "source": [
        "class_correct = list(0. for i in range(10))\n",
        "class_total = list(0. for i in range(10))\n",
        "with torch.no_grad():\n",
        "    for data in testloader:\n",
        "        images, labels = data\n",
        "        images, labels = images.to(device), labels.to(device)\n",
        "        outputs = net(images)\n",
        "        _, predicted = torch.max(outputs, 1)\n",
        "        c = (predicted == labels).squeeze()\n",
        "        for i in range(4):\n",
        "            label = labels[i]\n",
        "            class_correct[label] += c[i].item()\n",
        "            class_total[label] += 1\n",
        "\n",
        "\n",
        "for i in range(10):\n",
        "    print('Accuracy of %5s : %2d %%' % (\n",
        "        classes[i], 100 * class_correct[i] / class_total[i]))"
      ],
      "execution_count": 73,
      "outputs": [
        {
          "output_type": "stream",
          "text": [
            "Accuracy of plane : 67 %\n",
            "Accuracy of   car : 75 %\n",
            "Accuracy of  bird : 41 %\n",
            "Accuracy of   cat : 41 %\n",
            "Accuracy of  deer : 49 %\n",
            "Accuracy of   dog : 51 %\n",
            "Accuracy of  frog : 62 %\n",
            "Accuracy of horse : 67 %\n",
            "Accuracy of  ship : 63 %\n",
            "Accuracy of truck : 62 %\n"
          ],
          "name": "stdout"
        }
      ]
    },
    {
      "metadata": {
        "id": "4zWvoyfcNxO4",
        "colab_type": "code",
        "colab": {}
      },
      "cell_type": "code",
      "source": [
        ""
      ],
      "execution_count": 0,
      "outputs": []
    }
  ]
}